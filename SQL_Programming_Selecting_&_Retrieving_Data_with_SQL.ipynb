{
  "nbformat": 4,
  "nbformat_minor": 0,
  "metadata": {
    "colab": {
      "name": "SQL Programming - Selecting & Retrieving Data with SQL",
      "provenance": [],
      "collapsed_sections": [
        "1nDHMRqtg1nd",
        "5NiauWDEtyQT",
        "V2bBqgpywagu",
        "5StEYulTyETT",
        "RfMZY5FixNp9",
        "OjBIzvDZycEj",
        "flPFAAxGxRjP",
        "Ebo74ksiyxSt",
        "kuQDOhnZxXSS",
        "SD-wxiNhzN8h",
        "_HPMnfsqxgWv",
        "hJ310W5zzdVQ",
        "45Pnf42Nxnkz",
        "2mNf3P6fz6qe",
        "ZBHtfAOuxtWX",
        "urJSHr5a0QHF",
        "RHhkA_Ymxxv2",
        "kXmE4FXm0otn",
        "d1c_SidIx2Pc",
        "YncWLSu11Y21"
      ],
      "toc_visible": true,
      "include_colab_link": true
    },
    "kernelspec": {
      "name": "python3",
      "display_name": "Python 3"
    },
    "accelerator": "GPU"
  },
  "cells": [
    {
      "cell_type": "markdown",
      "metadata": {
        "id": "view-in-github",
        "colab_type": "text"
      },
      "source": [
        "<a href=\"https://colab.research.google.com/github/roberwangunda/demo/blob/master/SQL_Programming_Selecting_%26_Retrieving_Data_with_SQL.ipynb\" target=\"_parent\"><img src=\"https://colab.research.google.com/assets/colab-badge.svg\" alt=\"Open In Colab\"/></a>"
      ]
    },
    {
      "cell_type": "markdown",
      "metadata": {
        "id": "iHn_rVx9AQbH",
        "colab_type": "text"
      },
      "source": [
        "<font color=\"green\">*To start working on this notebook, or any other notebook that we will use in the Moringa Data Science Course, we will need to save our own copy of it. We can do this by clicking File > Save a Copy in Drive. We will then be able to make edits to our own copy of this notebook.*</font>"
      ]
    },
    {
      "cell_type": "markdown",
      "metadata": {
        "id": "vNuevLakwO1D",
        "colab_type": "text"
      },
      "source": [
        "# Selecting & Retrieving Data with SQL"
      ]
    },
    {
      "cell_type": "markdown",
      "metadata": {
        "id": "1nDHMRqtg1nd",
        "colab_type": "text"
      },
      "source": [
        "## 1.1 Let's first connect to our Database "
      ]
    },
    {
      "cell_type": "code",
      "metadata": {
        "id": "KEeQqc_32_uy",
        "colab_type": "code",
        "colab": {
          "base_uri": "https://localhost:8080/",
          "height": 35
        },
        "outputId": "62b647f6-ed43-4dcf-9a52-286ee4e00c68"
      },
      "source": [
        "# We will first load the sql extension into our environment\n",
        "#\n",
        "%load_ext sql\n",
        "\n",
        "# Then connect to our in memory sqlite database\n",
        "# NB: This database will cease to exist as soon as the database connection is closed\n",
        "#\n",
        "%sql sqlite://"
      ],
      "execution_count": 1,
      "outputs": [
        {
          "output_type": "execute_result",
          "data": {
            "application/vnd.google.colaboratory.intrinsic": {
              "type": "string"
            },
            "text/plain": [
              "'Connected: @None'"
            ]
          },
          "metadata": {
            "tags": []
          },
          "execution_count": 1
        }
      ]
    },
    {
      "cell_type": "markdown",
      "metadata": {
        "id": "5NiauWDEtyQT",
        "colab_type": "text"
      },
      "source": [
        "## 1.2 Importing Data From a CSV File"
      ]
    },
    {
      "cell_type": "code",
      "metadata": {
        "id": "Y3U2kqH_6StD",
        "colab_type": "code",
        "colab": {}
      },
      "source": [
        "# Importing the python libraries that we will need in this notebook\n",
        "#\n",
        "import csv\n",
        "import pandas as pd"
      ],
      "execution_count": 2,
      "outputs": []
    },
    {
      "cell_type": "markdown",
      "metadata": {
        "id": "a_pFRGcMOBpq",
        "colab_type": "text"
      },
      "source": [
        "Then we will download our csv file from Interpol: [here](https://bit.ly/InterpolDataset) and World Cup [here](http://bit.ly/MSWorldCupData)  . Open the link and then on our browser  Click File > Save Page As > Save. Lastly, upload it to our current environment on Colaboratory by clicking View > Table of Contents > Files then Upload.  (NB: Do not load file from url)"
      ]
    },
    {
      "cell_type": "code",
      "metadata": {
        "id": "z6U_gvHB5d_R",
        "colab_type": "code",
        "colab": {}
      },
      "source": [
        "# Loading the first table from a local CSV file\n",
        "#\n",
        "with open('/Countries.csv','r') as f:\n",
        "    Interpol = pd.read_csv(f, index_col=0, encoding='utf-8') "
      ],
      "execution_count": 6,
      "outputs": []
    },
    {
      "cell_type": "code",
      "metadata": {
        "id": "rGMna3Px9tfO",
        "colab_type": "code",
        "colab": {
          "base_uri": "https://localhost:8080/",
          "height": 86
        },
        "outputId": "37ab5ce6-62c7-4193-bda8-91e65eaa2570"
      },
      "source": [
        "# Then storing it in an SQL table of our in memory sqlite database\n",
        "#\n",
        "%sql DROP TABLE if EXISTS Interpol;\n",
        "%sql PERSIST Interpol;"
      ],
      "execution_count": 7,
      "outputs": [
        {
          "output_type": "stream",
          "text": [
            " * sqlite://\n",
            "Done.\n",
            " * sqlite://\n"
          ],
          "name": "stdout"
        },
        {
          "output_type": "execute_result",
          "data": {
            "application/vnd.google.colaboratory.intrinsic": {
              "type": "string"
            },
            "text/plain": [
              "'Persisted interpol'"
            ]
          },
          "metadata": {
            "tags": []
          },
          "execution_count": 7
        }
      ]
    },
    {
      "cell_type": "code",
      "metadata": {
        "id": "50wIaXuDt6FF",
        "colab_type": "code",
        "colab": {
          "base_uri": "https://localhost:8080/",
          "height": 86
        },
        "outputId": "9c27202c-02bd-4974-b227-b129758ac733"
      },
      "source": [
        "# We will load all the other dataset that we will need i.e. WorldCup\n",
        "#\n",
        "with open('/WorldCup.csv','r') as f:\n",
        "    WorldCup = pd.read_csv(f, index_col=0, encoding='utf-8') \n",
        "    \n",
        "%sql DROP TABLE if EXISTS WorldCup;\n",
        "%sql PERSIST WorldCup;       "
      ],
      "execution_count": 9,
      "outputs": [
        {
          "output_type": "stream",
          "text": [
            " * sqlite://\n",
            "Done.\n",
            " * sqlite://\n"
          ],
          "name": "stdout"
        },
        {
          "output_type": "execute_result",
          "data": {
            "application/vnd.google.colaboratory.intrinsic": {
              "type": "string"
            },
            "text/plain": [
              "'Persisted worldcup'"
            ]
          },
          "metadata": {
            "tags": []
          },
          "execution_count": 9
        }
      ]
    },
    {
      "cell_type": "code",
      "metadata": {
        "id": "q_WlNo73PNx5",
        "colab_type": "code",
        "colab": {
          "base_uri": "https://localhost:8080/",
          "height": 230
        },
        "outputId": "357c7ef2-5b66-4c22-d030-d7de704ee54c"
      },
      "source": [
        "# Let's preview our Interpol table so that we can understand it\n",
        "# Try to understand all the attributes (i.e columns) since this\n",
        "# will be one of the datasets that we will work with through this session\n",
        "#\n",
        "%sql select * from Interpol limit 5;"
      ],
      "execution_count": 10,
      "outputs": [
        {
          "output_type": "stream",
          "text": [
            " * sqlite://\n",
            "Done.\n"
          ],
          "name": "stdout"
        },
        {
          "output_type": "execute_result",
          "data": {
            "text/html": [
              "<table>\n",
              "    <tr>\n",
              "        <th>Country</th>\n",
              "        <th>National Fugitives</th>\n",
              "        <th>Wanted Fugitives</th>\n",
              "        <th>Possible Hosted Fugitives / Captured Fugitives</th>\n",
              "        <th>Region</th>\n",
              "        <th>Flag</th>\n",
              "    </tr>\n",
              "    <tr>\n",
              "        <td>Albania</td>\n",
              "        <td>3</td>\n",
              "        <td>3</td>\n",
              "        <td>0</td>\n",
              "        <td>Europe</td>\n",
              "        <td>http://www.crwflags.com/fotw/images/a/al.gif</td>\n",
              "    </tr>\n",
              "    <tr>\n",
              "        <td>Angola</td>\n",
              "        <td>0</td>\n",
              "        <td>0</td>\n",
              "        <td>1</td>\n",
              "        <td>Northern Africa</td>\n",
              "        <td>http://www.crwflags.com/fotw/images/a/ao.gif</td>\n",
              "    </tr>\n",
              "    <tr>\n",
              "        <td>Argentina</td>\n",
              "        <td>2</td>\n",
              "        <td>2</td>\n",
              "        <td>1</td>\n",
              "        <td>South America</td>\n",
              "        <td>http://www.crwflags.com/fotw/images/a/ar.gif</td>\n",
              "    </tr>\n",
              "    <tr>\n",
              "        <td>Australia</td>\n",
              "        <td>1</td>\n",
              "        <td>1</td>\n",
              "        <td>2</td>\n",
              "        <td>Oceania</td>\n",
              "        <td>http://www.crwflags.com/fotw/images/a/au.gif</td>\n",
              "    </tr>\n",
              "    <tr>\n",
              "        <td>Austria</td>\n",
              "        <td>1</td>\n",
              "        <td>1</td>\n",
              "        <td>0</td>\n",
              "        <td>Europe</td>\n",
              "        <td>http://www.crwflags.com/fotw/images/a/at.gif</td>\n",
              "    </tr>\n",
              "</table>"
            ],
            "text/plain": [
              "[('Albania', 3, 3, 0, 'Europe', 'http://www.crwflags.com/fotw/images/a/al.gif'),\n",
              " ('Angola', 0, 0, 1, 'Northern Africa', 'http://www.crwflags.com/fotw/images/a/ao.gif'),\n",
              " ('Argentina', 2, 2, 1, 'South America', 'http://www.crwflags.com/fotw/images/a/ar.gif'),\n",
              " ('Australia', 1, 1, 2, 'Oceania', 'http://www.crwflags.com/fotw/images/a/au.gif'),\n",
              " ('Austria', 1, 1, 0, 'Europe', 'http://www.crwflags.com/fotw/images/a/at.gif')]"
            ]
          },
          "metadata": {
            "tags": []
          },
          "execution_count": 10
        }
      ]
    },
    {
      "cell_type": "code",
      "metadata": {
        "id": "0efzyGvIPpxW",
        "colab_type": "code",
        "colab": {}
      },
      "source": [
        "# Let's preview our Worldcup table so that we can also understand it.\n",
        "# You will be acting as a football commentator performing research on the \n",
        "# world cup matches played in the past.\n",
        "# \n",
        "%sql SELECT * FROM WorldCup limit 5; "
      ],
      "execution_count": null,
      "outputs": []
    },
    {
      "cell_type": "markdown",
      "metadata": {
        "id": "V2bBqgpywagu",
        "colab_type": "text"
      },
      "source": [
        "## 1.3 Select Single Columns\n",
        " "
      ]
    },
    {
      "cell_type": "code",
      "metadata": {
        "id": "-tS9qSbtyDte",
        "colab_type": "code",
        "colab": {
          "base_uri": "https://localhost:8080/",
          "height": 1000
        },
        "outputId": "bbdda66c-a281-4f9f-f7e9-4094be934241"
      },
      "source": [
        "# Example 1\n",
        "# This is how we will select a single column (i.e. the Country Column) from the Interpol Dataset\n",
        "#\n",
        "%%sql\n",
        "SELECT Country FROM Interpol;"
      ],
      "execution_count": 11,
      "outputs": [
        {
          "output_type": "stream",
          "text": [
            " * sqlite://\n",
            "Done.\n"
          ],
          "name": "stdout"
        },
        {
          "output_type": "execute_result",
          "data": {
            "text/html": [
              "<table>\n",
              "    <tr>\n",
              "        <th>Country</th>\n",
              "    </tr>\n",
              "    <tr>\n",
              "        <td>Albania</td>\n",
              "    </tr>\n",
              "    <tr>\n",
              "        <td>Angola</td>\n",
              "    </tr>\n",
              "    <tr>\n",
              "        <td>Argentina</td>\n",
              "    </tr>\n",
              "    <tr>\n",
              "        <td>Australia</td>\n",
              "    </tr>\n",
              "    <tr>\n",
              "        <td>Austria</td>\n",
              "    </tr>\n",
              "    <tr>\n",
              "        <td>Bangladesh</td>\n",
              "    </tr>\n",
              "    <tr>\n",
              "        <td>Belarus</td>\n",
              "    </tr>\n",
              "    <tr>\n",
              "        <td>Belgium</td>\n",
              "    </tr>\n",
              "    <tr>\n",
              "        <td>Belize</td>\n",
              "    </tr>\n",
              "    <tr>\n",
              "        <td>Bolivia</td>\n",
              "    </tr>\n",
              "    <tr>\n",
              "        <td>Botswana</td>\n",
              "    </tr>\n",
              "    <tr>\n",
              "        <td>Brazil</td>\n",
              "    </tr>\n",
              "    <tr>\n",
              "        <td>Cambodia</td>\n",
              "    </tr>\n",
              "    <tr>\n",
              "        <td>Canada</td>\n",
              "    </tr>\n",
              "    <tr>\n",
              "        <td>Cayman Islands</td>\n",
              "    </tr>\n",
              "    <tr>\n",
              "        <td>Chile</td>\n",
              "    </tr>\n",
              "    <tr>\n",
              "        <td>Colombia</td>\n",
              "    </tr>\n",
              "    <tr>\n",
              "        <td>Congo</td>\n",
              "    </tr>\n",
              "    <tr>\n",
              "        <td>Costa Rica</td>\n",
              "    </tr>\n",
              "    <tr>\n",
              "        <td>Croatia</td>\n",
              "    </tr>\n",
              "    <tr>\n",
              "        <td>Curaçao</td>\n",
              "    </tr>\n",
              "    <tr>\n",
              "        <td>Czech Republic</td>\n",
              "    </tr>\n",
              "    <tr>\n",
              "        <td>Denmark</td>\n",
              "    </tr>\n",
              "    <tr>\n",
              "        <td>Dominican Republic</td>\n",
              "    </tr>\n",
              "    <tr>\n",
              "        <td>Ecuador</td>\n",
              "    </tr>\n",
              "    <tr>\n",
              "        <td>El Salvador</td>\n",
              "    </tr>\n",
              "    <tr>\n",
              "        <td>Estonia</td>\n",
              "    </tr>\n",
              "    <tr>\n",
              "        <td>Finland</td>\n",
              "    </tr>\n",
              "    <tr>\n",
              "        <td>France</td>\n",
              "    </tr>\n",
              "    <tr>\n",
              "        <td>Georgia, Asia</td>\n",
              "    </tr>\n",
              "    <tr>\n",
              "        <td>Germany</td>\n",
              "    </tr>\n",
              "    <tr>\n",
              "        <td>Greece</td>\n",
              "    </tr>\n",
              "    <tr>\n",
              "        <td>Honduras</td>\n",
              "    </tr>\n",
              "    <tr>\n",
              "        <td>Hungary</td>\n",
              "    </tr>\n",
              "    <tr>\n",
              "        <td>India</td>\n",
              "    </tr>\n",
              "    <tr>\n",
              "        <td>Indonesia</td>\n",
              "    </tr>\n",
              "    <tr>\n",
              "        <td>Iraq</td>\n",
              "    </tr>\n",
              "    <tr>\n",
              "        <td>Ireland</td>\n",
              "    </tr>\n",
              "    <tr>\n",
              "        <td>Italy</td>\n",
              "    </tr>\n",
              "    <tr>\n",
              "        <td>Kenya</td>\n",
              "    </tr>\n",
              "    <tr>\n",
              "        <td>Lesotho</td>\n",
              "    </tr>\n",
              "    <tr>\n",
              "        <td>Lithuania</td>\n",
              "    </tr>\n",
              "    <tr>\n",
              "        <td>Macedonia</td>\n",
              "    </tr>\n",
              "    <tr>\n",
              "        <td>Mali</td>\n",
              "    </tr>\n",
              "    <tr>\n",
              "        <td>Malta</td>\n",
              "    </tr>\n",
              "    <tr>\n",
              "        <td>Mexico</td>\n",
              "    </tr>\n",
              "    <tr>\n",
              "        <td>Montenegro</td>\n",
              "    </tr>\n",
              "    <tr>\n",
              "        <td>Morocco</td>\n",
              "    </tr>\n",
              "    <tr>\n",
              "        <td>Mozambique</td>\n",
              "    </tr>\n",
              "    <tr>\n",
              "        <td>Namibia</td>\n",
              "    </tr>\n",
              "    <tr>\n",
              "        <td>New Zealand</td>\n",
              "    </tr>\n",
              "    <tr>\n",
              "        <td>Nicaragua</td>\n",
              "    </tr>\n",
              "    <tr>\n",
              "        <td>Norway</td>\n",
              "    </tr>\n",
              "    <tr>\n",
              "        <td>Pakistan</td>\n",
              "    </tr>\n",
              "    <tr>\n",
              "        <td>Panama</td>\n",
              "    </tr>\n",
              "    <tr>\n",
              "        <td>Paraguay</td>\n",
              "    </tr>\n",
              "    <tr>\n",
              "        <td>Peru</td>\n",
              "    </tr>\n",
              "    <tr>\n",
              "        <td>Poland</td>\n",
              "    </tr>\n",
              "    <tr>\n",
              "        <td>Qatar</td>\n",
              "    </tr>\n",
              "    <tr>\n",
              "        <td>Romania</td>\n",
              "    </tr>\n",
              "    <tr>\n",
              "        <td>Russia</td>\n",
              "    </tr>\n",
              "    <tr>\n",
              "        <td>Serbia</td>\n",
              "    </tr>\n",
              "    <tr>\n",
              "        <td>Slovakia</td>\n",
              "    </tr>\n",
              "    <tr>\n",
              "        <td>Somalia</td>\n",
              "    </tr>\n",
              "    <tr>\n",
              "        <td>South Africa</td>\n",
              "    </tr>\n",
              "    <tr>\n",
              "        <td>Spain</td>\n",
              "    </tr>\n",
              "    <tr>\n",
              "        <td>Swaziland</td>\n",
              "    </tr>\n",
              "    <tr>\n",
              "        <td>Sweden</td>\n",
              "    </tr>\n",
              "    <tr>\n",
              "        <td>Tanzania</td>\n",
              "    </tr>\n",
              "    <tr>\n",
              "        <td>The Netherlands</td>\n",
              "    </tr>\n",
              "    <tr>\n",
              "        <td>Turkey</td>\n",
              "    </tr>\n",
              "    <tr>\n",
              "        <td>Ukraine</td>\n",
              "    </tr>\n",
              "    <tr>\n",
              "        <td>United Kingdom</td>\n",
              "    </tr>\n",
              "    <tr>\n",
              "        <td>United States</td>\n",
              "    </tr>\n",
              "    <tr>\n",
              "        <td>Uruguay</td>\n",
              "    </tr>\n",
              "    <tr>\n",
              "        <td>Venezuela</td>\n",
              "    </tr>\n",
              "    <tr>\n",
              "        <td>Zambia</td>\n",
              "    </tr>\n",
              "    <tr>\n",
              "        <td>Zimbabwe</td>\n",
              "    </tr>\n",
              "</table>"
            ],
            "text/plain": [
              "[('Albania',),\n",
              " ('Angola',),\n",
              " ('Argentina',),\n",
              " ('Australia',),\n",
              " ('Austria',),\n",
              " ('Bangladesh',),\n",
              " ('Belarus',),\n",
              " ('Belgium',),\n",
              " ('Belize',),\n",
              " ('Bolivia',),\n",
              " ('Botswana',),\n",
              " ('Brazil',),\n",
              " ('Cambodia',),\n",
              " ('Canada',),\n",
              " ('Cayman Islands',),\n",
              " ('Chile',),\n",
              " ('Colombia',),\n",
              " ('Congo',),\n",
              " ('Costa Rica',),\n",
              " ('Croatia',),\n",
              " ('Curaçao',),\n",
              " ('Czech Republic',),\n",
              " ('Denmark',),\n",
              " ('Dominican Republic',),\n",
              " ('Ecuador',),\n",
              " ('El Salvador',),\n",
              " ('Estonia',),\n",
              " ('Finland',),\n",
              " ('France',),\n",
              " ('Georgia, Asia',),\n",
              " ('Germany',),\n",
              " ('Greece',),\n",
              " ('Honduras',),\n",
              " ('Hungary',),\n",
              " ('India',),\n",
              " ('Indonesia',),\n",
              " ('Iraq',),\n",
              " ('Ireland',),\n",
              " ('Italy',),\n",
              " ('Kenya',),\n",
              " ('Lesotho',),\n",
              " ('Lithuania',),\n",
              " ('Macedonia',),\n",
              " ('Mali',),\n",
              " ('Malta',),\n",
              " ('Mexico',),\n",
              " ('Montenegro',),\n",
              " ('Morocco',),\n",
              " ('Mozambique',),\n",
              " ('Namibia',),\n",
              " ('New Zealand',),\n",
              " ('Nicaragua',),\n",
              " ('Norway',),\n",
              " ('Pakistan',),\n",
              " ('Panama',),\n",
              " ('Paraguay',),\n",
              " ('Peru',),\n",
              " ('Poland',),\n",
              " ('Qatar',),\n",
              " ('Romania',),\n",
              " ('Russia',),\n",
              " ('Serbia',),\n",
              " ('Slovakia',),\n",
              " ('Somalia',),\n",
              " ('South Africa',),\n",
              " ('Spain',),\n",
              " ('Swaziland',),\n",
              " ('Sweden',),\n",
              " ('Tanzania',),\n",
              " ('The Netherlands',),\n",
              " ('Turkey',),\n",
              " ('Ukraine',),\n",
              " ('United Kingdom',),\n",
              " ('United States',),\n",
              " ('Uruguay',),\n",
              " ('Venezuela',),\n",
              " ('Zambia',),\n",
              " ('Zimbabwe',)]"
            ]
          },
          "metadata": {
            "tags": []
          },
          "execution_count": 11
        }
      ]
    },
    {
      "cell_type": "code",
      "metadata": {
        "id": "OmKAoVo-yDjJ",
        "colab_type": "code",
        "colab": {
          "base_uri": "https://localhost:8080/",
          "height": 74
        },
        "outputId": "5b6df9c0-9c32-4cd6-915d-d97b1c7db067"
      },
      "source": [
        "# Example 2\n",
        "# Let's get the European countries without National fugitives  \n",
        "# \n",
        "%%sql\n",
        "SELECT Country FROM Interpol\n",
        "WHERE 'National Fugitives' = 0 AND Region = 'Europe'"
      ],
      "execution_count": 12,
      "outputs": [
        {
          "output_type": "stream",
          "text": [
            " * sqlite://\n",
            "Done.\n"
          ],
          "name": "stdout"
        },
        {
          "output_type": "execute_result",
          "data": {
            "text/html": [
              "<table>\n",
              "    <tr>\n",
              "        <th>Country</th>\n",
              "    </tr>\n",
              "</table>"
            ],
            "text/plain": [
              "[]"
            ]
          },
          "metadata": {
            "tags": []
          },
          "execution_count": 12
        }
      ]
    },
    {
      "cell_type": "code",
      "metadata": {
        "id": "Trjt913gyDOF",
        "colab_type": "code",
        "colab": {
          "base_uri": "https://localhost:8080/",
          "height": 74
        },
        "outputId": "23501914-cd4d-4036-e9a1-a6de937fa680"
      },
      "source": [
        "# Example 3\n",
        "# Let's select the regions without National fugitives\n",
        "#\n",
        "%%sql\n",
        "SELECT Region FROM Interpol\n",
        "WHERE 'National Fugitives' = 0"
      ],
      "execution_count": 13,
      "outputs": [
        {
          "output_type": "stream",
          "text": [
            " * sqlite://\n",
            "Done.\n"
          ],
          "name": "stdout"
        },
        {
          "output_type": "execute_result",
          "data": {
            "text/html": [
              "<table>\n",
              "    <tr>\n",
              "        <th>Region</th>\n",
              "    </tr>\n",
              "</table>"
            ],
            "text/plain": [
              "[]"
            ]
          },
          "metadata": {
            "tags": []
          },
          "execution_count": 13
        }
      ]
    },
    {
      "cell_type": "markdown",
      "metadata": {
        "id": "5StEYulTyETT",
        "colab_type": "text"
      },
      "source": [
        "### <font color=\"green\"> 1.3 Challenges</font>"
      ]
    },
    {
      "cell_type": "code",
      "metadata": {
        "id": "nV7AQstWyPsy",
        "colab_type": "code",
        "colab": {}
      },
      "source": [
        "# Challenge 1\n",
        "# Using the Interpol Dataset, let us get the Northern African countries that  \n",
        "# do not host possible fugitives or captured fugitives\n",
        "# \n",
        "OUR CODE GOES HERE"
      ],
      "execution_count": null,
      "outputs": []
    },
    {
      "cell_type": "code",
      "metadata": {
        "id": "g6yi8HaFyPeA",
        "colab_type": "code",
        "colab": {}
      },
      "source": [
        "# Challenge 2\n",
        "# Using the Interpol Dataset, let us get the countries without a National fugitive and a Wanted fugitive\n",
        "#\n",
        "OUR CODE GOES HERE"
      ],
      "execution_count": null,
      "outputs": []
    },
    {
      "cell_type": "code",
      "metadata": {
        "id": "ZvIo11YvyPTn",
        "colab_type": "code",
        "colab": {}
      },
      "source": [
        "# Challenge 3\n",
        "# Using the Interpol Dataset, which european countries have 3 National Fugitives\n",
        "# \n",
        "OUR CODE GOES HERE"
      ],
      "execution_count": null,
      "outputs": []
    },
    {
      "cell_type": "markdown",
      "metadata": {
        "id": "RfMZY5FixNp9",
        "colab_type": "text"
      },
      "source": [
        "## 1.4 Multiple columns\n"
      ]
    },
    {
      "cell_type": "code",
      "metadata": {
        "id": "BJwoKj8WyXm3",
        "colab_type": "code",
        "colab": {}
      },
      "source": [
        "# Example 1\n",
        "# Using the Interpol dataset, we would like to know the countries and their respective No. of Captured fugitives.\n",
        "#\n",
        "%%sql\n",
        "SELECT Country, \"Possible Hosted Fugitives / Captured Fugitives\" FROM Interpol;"
      ],
      "execution_count": null,
      "outputs": []
    },
    {
      "cell_type": "code",
      "metadata": {
        "id": "npFZQVKpyXfX",
        "colab_type": "code",
        "colab": {}
      },
      "source": [
        "# Example 2\n",
        "# Using the world cup dataset, let's get teams that played in the matches with their respective referee\n",
        "# \n",
        "%%sql\n",
        "SELECT \"Home_Team_Name\", \"Away_Team_Name\", Referee FROM WorldCup;"
      ],
      "execution_count": null,
      "outputs": []
    },
    {
      "cell_type": "code",
      "metadata": {
        "id": "WoYn3-BJyXWB",
        "colab_type": "code",
        "colab": {}
      },
      "source": [
        "# Example 3\n",
        "# Find out any three matches that have had 5 away goals  \n",
        "#\n",
        "%%sql\n",
        "SELECT * FROM WorldCup Where \"Away_Team_Goals\" = 5 LIMIT 3"
      ],
      "execution_count": null,
      "outputs": []
    },
    {
      "cell_type": "markdown",
      "metadata": {
        "id": "OjBIzvDZycEj",
        "colab_type": "text"
      },
      "source": [
        "### <font color=\"green\"> 1.4 Challenges</font>"
      ]
    },
    {
      "cell_type": "code",
      "metadata": {
        "id": "Fj-u_o1uyeyY",
        "colab_type": "code",
        "colab": {}
      },
      "source": [
        "# Challenge 1\n",
        "# From the Interpol dataset, let's get countries with their respective \n",
        "# No. of National fugitives and Wanted fugitives\n",
        "# \n",
        "OUR CODE GOES HERE"
      ],
      "execution_count": null,
      "outputs": []
    },
    {
      "cell_type": "code",
      "metadata": {
        "id": "xhYS4NiDyfdJ",
        "colab_type": "code",
        "colab": {}
      },
      "source": [
        "# Challenge 2\n",
        "# Using WorldCup dataset, find out which group 4 world cup matches \n",
        "# that were played in the city of Montevideo \n",
        "#\n",
        "OUR CODE GOES HERE"
      ],
      "execution_count": null,
      "outputs": []
    },
    {
      "cell_type": "code",
      "metadata": {
        "id": "dfU-a65wyfNd",
        "colab_type": "code",
        "colab": {}
      },
      "source": [
        "# Challenge 3\n",
        "# Answering the same question as challenge 2, we would like to get only one match\n",
        "# \n",
        "OUR CODE GOES HERE"
      ],
      "execution_count": null,
      "outputs": []
    },
    {
      "cell_type": "markdown",
      "metadata": {
        "id": "flPFAAxGxRjP",
        "colab_type": "text"
      },
      "source": [
        "## 1.5 Orderby"
      ]
    },
    {
      "cell_type": "code",
      "metadata": {
        "id": "P9-AxtmsypmA",
        "colab_type": "code",
        "colab": {}
      },
      "source": [
        "# Example 1\n",
        "# Using the Interpol dataset, let's get all our records ordering \n",
        "# them by the region in ascending order\n",
        "#\n",
        "%%sql\n",
        "SELECT * FROM Interpol\n",
        "ORDER BY Region ASC;"
      ],
      "execution_count": null,
      "outputs": []
    },
    {
      "cell_type": "code",
      "metadata": {
        "id": "ItZqYP8pypec",
        "colab_type": "code",
        "colab": {}
      },
      "source": [
        "# Example 2\n",
        "# We can do the same as in example 1 but now having the records in descending order \n",
        "# as shown below\n",
        "#\n",
        "%%sql\n",
        "SELECT * FROM Interpol\n",
        "ORDER BY Country DESC;"
      ],
      "execution_count": null,
      "outputs": []
    },
    {
      "cell_type": "code",
      "metadata": {
        "id": "wUZJ_JEbypVk",
        "colab_type": "code",
        "colab": {}
      },
      "source": [
        "# Example 3 \n",
        "# Using the Worldcup dataset, we can select 5 World Cup Group 1 matches played \n",
        "# after 1950 and having them ordered by city in ascending order as shown below\n",
        "#\n",
        "%%sql\n",
        "SELECT * FROM WorldCup\n",
        "WHERE Stage='Group 1' AND Year > 1950\n",
        "ORDER BY City ASC\n",
        "LIMIT 5;"
      ],
      "execution_count": null,
      "outputs": []
    },
    {
      "cell_type": "markdown",
      "metadata": {
        "id": "Ebo74ksiyxSt",
        "colab_type": "text"
      },
      "source": [
        "### <font color=\"green\"> 1.5 Challenges</font>"
      ]
    },
    {
      "cell_type": "code",
      "metadata": {
        "id": "HDrz5mCmy04V",
        "colab_type": "code",
        "colab": {}
      },
      "source": [
        "# Challenge 1\n",
        "# Using Interpol Dataset, select all the records and order them by National Fugitives in ascending order\n",
        "# \n",
        "OUR CODE GOES HERE"
      ],
      "execution_count": null,
      "outputs": []
    },
    {
      "cell_type": "code",
      "metadata": {
        "id": "SddX9QWUy2bq",
        "colab_type": "code",
        "colab": {}
      },
      "source": [
        "# Challenge 2\n",
        "# Using WorldCup Dataset, get the matches played in the Pocitos stadium and their attendance \n",
        "# later than 1950 and ordering them by attendance in descending order\n",
        "# \n",
        "OUR CODE GOES HERE"
      ],
      "execution_count": null,
      "outputs": []
    },
    {
      "cell_type": "code",
      "metadata": {
        "id": "YDzDazViy3jB",
        "colab_type": "code",
        "colab": {}
      },
      "source": [
        "# Challenge 3\n",
        "# Get the World Cup Matches played in France after 1970 ordered by years in descending order \n",
        "#\n",
        "OUR CODE GOES HERE"
      ],
      "execution_count": null,
      "outputs": []
    },
    {
      "cell_type": "markdown",
      "metadata": {
        "id": "kuQDOhnZxXSS",
        "colab_type": "text"
      },
      "source": [
        "## 1.6 Where"
      ]
    },
    {
      "cell_type": "code",
      "metadata": {
        "id": "JxMw5TSJzHaO",
        "colab_type": "code",
        "colab": {}
      },
      "source": [
        "# Example 1\n",
        "# From our Interpol dataset, let's find out which Countries have had three or more than three National Fugitives.\n",
        "#\n",
        "%%sql\n",
        "SELECT * FROM Interpol\n",
        "WHERE Region = 'Europe';"
      ],
      "execution_count": null,
      "outputs": []
    },
    {
      "cell_type": "code",
      "metadata": {
        "id": "GwN_mf1ezHUg",
        "colab_type": "code",
        "colab": {}
      },
      "source": [
        "# Example 2\n",
        "# From our Interpol dataset, let's get the European countries and the no of Wanted fugitives they have\n",
        "#\n",
        "%%sql\n",
        "SELECT Country, \"Wanted Fugitives\" FROM Interpol\n",
        "WHERE Region = 'Europe';"
      ],
      "execution_count": null,
      "outputs": []
    },
    {
      "cell_type": "code",
      "metadata": {
        "id": "FtFa2nvnzHJh",
        "colab_type": "code",
        "colab": {}
      },
      "source": [
        "# Example 3\n",
        "# From our WorldCup dataset, Let us select the home teams, away teams \n",
        "# and the respective no. of home team goals, no. of away team goals\n",
        "# for the years after 1950\n",
        "#\n",
        "%%sql\n",
        "SELECT Year, Stage, Home_Team_Name, Home_Team_Goals, Away_Team_Name, Away_Team_Goals FROM WorldCup\n",
        "WHERE Year > 1930\n",
        "LIMIT 7;"
      ],
      "execution_count": null,
      "outputs": []
    },
    {
      "cell_type": "markdown",
      "metadata": {
        "id": "SD-wxiNhzN8h",
        "colab_type": "text"
      },
      "source": [
        "### <font color=\"green\"> 1.6 Challenges</font>"
      ]
    },
    {
      "cell_type": "code",
      "metadata": {
        "id": "S9SXcemDzSMd",
        "colab_type": "code",
        "colab": {}
      },
      "source": [
        "# Challenge 1\n",
        "# From our Interpol dataset, find out which  country had the most Captured Fugitives \n",
        "#\n",
        "OUR CODE GOES HERE"
      ],
      "execution_count": null,
      "outputs": []
    },
    {
      "cell_type": "code",
      "metadata": {
        "id": "8vTPzw0OzSDX",
        "colab_type": "code",
        "colab": {}
      },
      "source": [
        "# Challenge 2\n",
        "# Using our Interpol dataset, get the european and asian countries;\n",
        "#\n",
        "OUR CODE GOES HERE"
      ],
      "execution_count": null,
      "outputs": []
    },
    {
      "cell_type": "code",
      "metadata": {
        "id": "Z4vVPXxHzR3D",
        "colab_type": "code",
        "colab": {}
      },
      "source": [
        "# Challenge 3 \n",
        "# From our Interpol dataset, find out which top countries had the least National fugities\n",
        "#\n",
        "OUR CODE GOES HERE"
      ],
      "execution_count": null,
      "outputs": []
    },
    {
      "cell_type": "markdown",
      "metadata": {
        "id": "_HPMnfsqxgWv",
        "colab_type": "text"
      },
      "source": [
        "## 1.7 Between "
      ]
    },
    {
      "cell_type": "code",
      "metadata": {
        "id": "-Y121Fc_zjTu",
        "colab_type": "code",
        "colab": {}
      },
      "source": [
        "# Example 1\n",
        "# Select the countries with national fugitives between 0 and 3 ordered by nationnal fugitives ascending order\n",
        "#\n",
        "%%sql\n",
        "SELECT Country, \"National Fugitives\" FROM Interpol\n",
        "WHERE \"National Fugitives\" BETWEEN 0 AND 3 ORDER BY \"National Fugitives\" ASC;"
      ],
      "execution_count": null,
      "outputs": []
    },
    {
      "cell_type": "code",
      "metadata": {
        "id": "Rl1dSSYzzjLw",
        "colab_type": "code",
        "colab": {}
      },
      "source": [
        "# Example 2\n",
        "# Select the countries with national fugitives not between 0 and 4 ordered by nationnal fugitives ascending order\n",
        "#\n",
        "%%sql\n",
        "SELECT Country, \"National Fugitives\" FROM Interpol\n",
        "WHERE \"National Fugitives\" NOT BETWEEN 0 AND 4 ORDER BY \"National Fugitives\" ASC;"
      ],
      "execution_count": null,
      "outputs": []
    },
    {
      "cell_type": "code",
      "metadata": {
        "id": "8KedUOf4zjDs",
        "colab_type": "code",
        "colab": {}
      },
      "source": [
        "# Example 3\n",
        "# Select any 5 matches played after 1950 which did not have the home team as Germany\n",
        "#\n",
        "%%sql\n",
        "SELECT * FROM WorldCup\n",
        "WHERE NOT \"Home Team Name\" = 'Germany' AND NOT Year < 1950\n",
        "LIMIT 5;"
      ],
      "execution_count": null,
      "outputs": []
    },
    {
      "cell_type": "markdown",
      "metadata": {
        "id": "hJ310W5zzdVQ",
        "colab_type": "text"
      },
      "source": [
        "### <font color=\"green\"> 1.7 Challenges</font>"
      ]
    },
    {
      "cell_type": "code",
      "metadata": {
        "id": "yK5U8gQ6zoIM",
        "colab_type": "code",
        "colab": {}
      },
      "source": [
        "# Challenge 1\n",
        "# From the Interpol dataset, get all asian countries with wanted fugitives between 0 and 2\n",
        "#\n",
        "OUR CODE GOES HERE"
      ],
      "execution_count": null,
      "outputs": []
    },
    {
      "cell_type": "code",
      "metadata": {
        "id": "rm5PecphzoAZ",
        "colab_type": "code",
        "colab": {}
      },
      "source": [
        "# Challenge 2\n",
        "# From the World cup dataset, get all the matches that were played later than 1980 with an attendance less than 5000 \n",
        "# \n",
        "OUR CODE GOES HERE"
      ],
      "execution_count": null,
      "outputs": []
    },
    {
      "cell_type": "code",
      "metadata": {
        "id": "VcEWqciwzn0K",
        "colab_type": "code",
        "colab": {}
      },
      "source": [
        "# Challenge 3 \n",
        "# Which matches were played between the year 1990 and 2000?\n",
        "# \n",
        "OUR CODE GOES HERE"
      ],
      "execution_count": null,
      "outputs": []
    },
    {
      "cell_type": "markdown",
      "metadata": {
        "id": "45Pnf42Nxnkz",
        "colab_type": "text"
      },
      "source": [
        "## 1.8 Distinct"
      ]
    },
    {
      "cell_type": "code",
      "metadata": {
        "id": "QuaneZrhz6Ts",
        "colab_type": "code",
        "colab": {}
      },
      "source": [
        "# Example 1\n",
        "# Let's find out which stadiums have hosted world cup matches\n",
        "%%sql\n",
        "SELECT DISTINCT Stadium FROM WorldCup;"
      ],
      "execution_count": null,
      "outputs": []
    },
    {
      "cell_type": "code",
      "metadata": {
        "id": "wMiHIgS8z6MT",
        "colab_type": "code",
        "colab": {}
      },
      "source": [
        "# Example 2\n",
        "# Let's find out which world cup cities have hosted world cup matches after 2000\n",
        "#\n",
        "%%sql\n",
        "SELECT DISTINCT City FROM WorldCup WHERE Year > 2000;"
      ],
      "execution_count": null,
      "outputs": []
    },
    {
      "cell_type": "markdown",
      "metadata": {
        "id": "2mNf3P6fz6qe",
        "colab_type": "text"
      },
      "source": [
        "### <font color=\"green\"> 1.8 Challenges</font>"
      ]
    },
    {
      "cell_type": "code",
      "metadata": {
        "id": "vK4W0rDtz9xP",
        "colab_type": "code",
        "colab": {}
      },
      "source": [
        "# Challenge 1\n",
        "# Name the stages in the world cup and order them alphabetically by stage.\n",
        "# \n",
        "OUR CODE GOES HERE"
      ],
      "execution_count": null,
      "outputs": []
    },
    {
      "cell_type": "code",
      "metadata": {
        "id": "-VgClIuzz9ho",
        "colab_type": "code",
        "colab": {}
      },
      "source": [
        "# Challenge 2\n",
        "# Which cities hosted the world cup between 1950 and 2000?\n",
        "#\n",
        "OUR CODE GOES HERE"
      ],
      "execution_count": null,
      "outputs": []
    },
    {
      "cell_type": "code",
      "metadata": {
        "id": "9Mo8KbOoz8c2",
        "colab_type": "code",
        "colab": {}
      },
      "source": [
        "# Challenge 3\n",
        "# During which years was the world cup hosted in?\n",
        "#\n",
        "OUR CODE GOES HERE"
      ],
      "execution_count": null,
      "outputs": []
    },
    {
      "cell_type": "markdown",
      "metadata": {
        "id": "ZBHtfAOuxtWX",
        "colab_type": "text"
      },
      "source": [
        "## 1.9 Count"
      ]
    },
    {
      "cell_type": "code",
      "metadata": {
        "id": "lf6o06zW0LTU",
        "colab_type": "code",
        "colab": {}
      },
      "source": [
        "# Example 1\n",
        "# How many countries were listed in interpol's data? \n",
        "#\n",
        "%%sql\n",
        "SELECT COUNT(Country) FROM Interpol;"
      ],
      "execution_count": null,
      "outputs": []
    },
    {
      "cell_type": "code",
      "metadata": {
        "id": "98PmdA100LSE",
        "colab_type": "code",
        "colab": {}
      },
      "source": [
        "# Example 2\n",
        "# How many times has Brazil played home during world cup matches?\n",
        "#\n",
        "%%sql\n",
        "SELECT COUNT(\"Home_Team_Name\") FROM WorldCup where Home_Team_Name = 'Brazil';"
      ],
      "execution_count": null,
      "outputs": []
    },
    {
      "cell_type": "code",
      "metadata": {
        "id": "E4BpjhuF0LFh",
        "colab_type": "code",
        "colab": {}
      },
      "source": [
        "# Example 3\n",
        "# Find out the number of times that stadiums have hosted matches in the World Cup? \n",
        "# \n",
        "%%sql\n",
        "SELECT COUNT(Stadium)\n",
        "FROM WorldCup;"
      ],
      "execution_count": null,
      "outputs": []
    },
    {
      "cell_type": "markdown",
      "metadata": {
        "id": "urJSHr5a0QHF",
        "colab_type": "text"
      },
      "source": [
        "### <font color=\"green\"> 1.9 Challenges</font>"
      ]
    },
    {
      "cell_type": "code",
      "metadata": {
        "id": "MRDj9E4B0fWe",
        "colab_type": "code",
        "colab": {}
      },
      "source": [
        "# Challenge 1\n",
        "# Using Interpol Dataset, find out how many wanted fugitives there are in Northern Africa.\n",
        "# \n",
        "OUR CODE GOES HERE"
      ],
      "execution_count": null,
      "outputs": []
    },
    {
      "cell_type": "code",
      "metadata": {
        "id": "vtNJoQ7m0e0Q",
        "colab_type": "code",
        "colab": {}
      },
      "source": [
        "# Challenge 2\n",
        "# Using WorldCup Dataset, find out how many Possible Hosted Fugitives / Captured Fugitives \n",
        "# there are in Europe and Northern Africa.\n",
        "# \n",
        "OUR CODE GOES HERE"
      ],
      "execution_count": null,
      "outputs": []
    },
    {
      "cell_type": "code",
      "metadata": {
        "id": "QPMB6WLl0eil",
        "colab_type": "code",
        "colab": {}
      },
      "source": [
        "# Challenge 3\n",
        "# Using WorldCup dataset, find out how many away teams were played where a team scored more than 3 goals.\n",
        "# \n",
        "OUR CODE GOES HERE"
      ],
      "execution_count": null,
      "outputs": []
    },
    {
      "cell_type": "markdown",
      "metadata": {
        "id": "RHhkA_Ymxxv2",
        "colab_type": "text"
      },
      "source": [
        "## 1.10 Groupby"
      ]
    },
    {
      "cell_type": "code",
      "metadata": {
        "id": "v_FSehRC0nKn",
        "colab_type": "code",
        "colab": {}
      },
      "source": [
        "# Example 1\n",
        "# Which three stadiums have hosted the most world cup games?\n",
        "#\n",
        "%%sql\n",
        "SELECT Stadium, COUNT(Stadium)\n",
        "FROM WorldCup\n",
        "GROUP BY Stadium \n",
        "ORDER BY COUNT(Stadium) DESC LIMIT 3;"
      ],
      "execution_count": null,
      "outputs": []
    },
    {
      "cell_type": "code",
      "metadata": {
        "id": "8Wg9ppdr0m93",
        "colab_type": "code",
        "colab": {}
      },
      "source": [
        "# Example 2\n",
        "# Which three stadiums have hosted the least world cup games?\n",
        "#\n",
        "%%sql\n",
        "SELECT City, COUNT(Stadium)\n",
        "FROM WorldCup\n",
        "GROUP BY Stadium \n",
        "ORDER BY COUNT(Stadium) ASC LIMIT 3;"
      ],
      "execution_count": null,
      "outputs": []
    },
    {
      "cell_type": "markdown",
      "metadata": {
        "id": "kXmE4FXm0otn",
        "colab_type": "text"
      },
      "source": [
        "### <font color=\"green\"> 1.10 Challenges</font>"
      ]
    },
    {
      "cell_type": "code",
      "metadata": {
        "id": "WoXJYKgW1J85",
        "colab_type": "code",
        "colab": {}
      },
      "source": [
        "# Challenge 1\n",
        "# What has been the largest no. of home goals scored by three home teams? \n",
        "# \n",
        "OUR CODE GOES HERE"
      ],
      "execution_count": null,
      "outputs": []
    },
    {
      "cell_type": "code",
      "metadata": {
        "id": "og-hKLN21JzZ",
        "colab_type": "code",
        "colab": {}
      },
      "source": [
        "# Challenge 2\n",
        "# Which away teams have scored the lowest no. of away goals?\n",
        "# \n",
        "OUR CODE GOES HERE"
      ],
      "execution_count": null,
      "outputs": []
    },
    {
      "cell_type": "code",
      "metadata": {
        "id": "AEMk4s-m1Jjm",
        "colab_type": "code",
        "colab": {}
      },
      "source": [
        "# Challenge 3\n",
        "# Select records from the World Cup Dataset grouping by City \n",
        "# \n",
        "OUR CODE GOES HERE"
      ],
      "execution_count": null,
      "outputs": []
    },
    {
      "cell_type": "markdown",
      "metadata": {
        "id": "d1c_SidIx2Pc",
        "colab_type": "text"
      },
      "source": [
        "##1.11 Null Values\n"
      ]
    },
    {
      "cell_type": "code",
      "metadata": {
        "id": "XyrUTtx_1Yg7",
        "colab_type": "code",
        "colab": {}
      },
      "source": [
        "# Example 1\n",
        "# Select any one record from the world cup dataset that has null examples?\n",
        "# \n",
        "%%sql\n",
        "SELECT *\n",
        "FROM WorldCup\n",
        "WHERE Attendance IS NULL LIMIT 1;"
      ],
      "execution_count": null,
      "outputs": []
    },
    {
      "cell_type": "code",
      "metadata": {
        "id": "NhxldRCs1YXo",
        "colab_type": "code",
        "colab": {}
      },
      "source": [
        "# Example 2\n",
        "# Select any 5 records without null examples from the Worldcup Dataset \n",
        "#\n",
        "%%sql\n",
        "SELECT *\n",
        "FROM WorldCup\n",
        "WHERE City IS NOT NULL\n",
        "LIMIT 5;"
      ],
      "execution_count": null,
      "outputs": []
    },
    {
      "cell_type": "markdown",
      "metadata": {
        "id": "YncWLSu11Y21",
        "colab_type": "text"
      },
      "source": [
        "### <font color=\"green\"> 1.11 Challenges</font>"
      ]
    },
    {
      "cell_type": "code",
      "metadata": {
        "id": "04dsl20p1eXH",
        "colab_type": "code",
        "colab": {}
      },
      "source": [
        "# Challenge 1\n",
        "# Using the Worldcup dataset, select all the records that contain null values?\n",
        "#\n",
        "OUR CODE GOES HERE"
      ],
      "execution_count": null,
      "outputs": []
    },
    {
      "cell_type": "code",
      "metadata": {
        "id": "L5TBZKqf1eN2",
        "colab_type": "code",
        "colab": {}
      },
      "source": [
        "# Challenge 2\n",
        "# Select all the records that do not contain null values from the Interpol dataset\n",
        "#\n",
        "OUR CODE GOES HERE"
      ],
      "execution_count": null,
      "outputs": []
    }
  ]
}